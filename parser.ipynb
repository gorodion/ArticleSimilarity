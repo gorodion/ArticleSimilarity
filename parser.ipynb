{
 "cells": [
  {
   "cell_type": "code",
   "execution_count": 1,
   "metadata": {},
   "outputs": [],
   "source": [
    "from lxml.html import fromstring as to_tree\n",
    "import csv\n",
    "import requests"
   ]
  },
  {
   "cell_type": "code",
   "execution_count": 67,
   "metadata": {},
   "outputs": [],
   "source": [
    "with open('energy.html', 'rb') as f:\n",
    "    tree = to_tree(f.read())"
   ]
  },
  {
   "cell_type": "code",
   "execution_count": 2,
   "metadata": {},
   "outputs": [],
   "source": [
    "def request(url):\n",
    "    response = requests.get(url)\n",
    "\n",
    "    if response.status_code != 200:\n",
    "        log.append(url)\n",
    "        raise Exception(f'ERROR CODE {response.status_code}')\n",
    "        \n",
    "    return response"
   ]
  },
  {
   "cell_type": "code",
   "execution_count": 7,
   "metadata": {},
   "outputs": [],
   "source": [
    "def parse_article(url):\n",
    "    req = request(url)\n",
    "    tree = to_tree(req.text)\n",
    "    title = ' '.join(tree.xpath('//*[@class=\"news-header\"]/text()')).strip()\n",
    "    content = '\\n'.join(tree.xpath('//*[@class=\"purified_text\"]/p/text()'))\n",
    "    return url, title, content"
   ]
  },
  {
   "cell_type": "code",
   "execution_count": 12,
   "metadata": {},
   "outputs": [],
   "source": [
    "from tqdm.notebook import trange, tqdm"
   ]
  },
  {
   "cell_type": "code",
   "execution_count": 18,
   "metadata": {},
   "outputs": [
    {
     "data": {
      "application/vnd.jupyter.widget-view+json": {
       "model_id": "954ff292ae304489b4d600fcb33275c6",
       "version_major": 2,
       "version_minor": 0
      },
      "text/plain": [
       "HBox(children=(FloatProgress(value=0.0, max=90.0), HTML(value='')))"
      ]
     },
     "metadata": {},
     "output_type": "display_data"
    },
    {
     "name": "stdout",
     "output_type": "stream",
     "text": [
      "\n"
     ]
    }
   ],
   "source": [
    "base_url = 'https://energybase.ru'\n",
    "n_page = 'https://energybase.ru/news/electric-power?NewsSearch%5Bpublished_at%5D=allTime&newsPage={}&per-page=10#news-list'\n",
    "contents = []\n",
    "log = []\n",
    "\n",
    "for page in trange(90):\n",
    "    n_page_req = request(n_page.format(page))\n",
    "    n_page_tree = to_tree(n_page_req.text)\n",
    "    urls = n_page_tree.xpath('//a[@class= \"news-item__header-link\"]/@href')\n",
    "    for rel_url in urls:\n",
    "        url = base_url + rel_url\n",
    "        contents.append(parse_article(url))"
   ]
  },
  {
   "cell_type": "code",
   "execution_count": 19,
   "metadata": {},
   "outputs": [],
   "source": [
    "import pandas as pd\n",
    "df = pd.DataFrame(contents)"
   ]
  },
  {
   "cell_type": "code",
   "execution_count": 21,
   "metadata": {},
   "outputs": [],
   "source": [
    "df.columns = ['url', 'title', 'content']\n",
    "df.to_csv('elec_base.csv', index=False)"
   ]
  }
 ],
 "metadata": {
  "kernelspec": {
   "display_name": "Python 3",
   "language": "python",
   "name": "python3"
  },
  "language_info": {
   "codemirror_mode": {
    "name": "ipython",
    "version": 3
   },
   "file_extension": ".py",
   "mimetype": "text/x-python",
   "name": "python",
   "nbconvert_exporter": "python",
   "pygments_lexer": "ipython3",
   "version": "3.8.3"
  }
 },
 "nbformat": 4,
 "nbformat_minor": 4
}
